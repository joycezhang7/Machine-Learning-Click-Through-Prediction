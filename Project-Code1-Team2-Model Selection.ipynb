{
 "cells": [
  {
   "cell_type": "markdown",
   "metadata": {},
   "source": [
    "# Import packages, data, setting up the data "
   ]
  },
  {
   "cell_type": "code",
   "execution_count": 1,
   "metadata": {},
   "outputs": [],
   "source": [
    "#Import neccessary packages \n",
    "from __future__ import division, print_function, unicode_literals\n",
    "import pandas as pd\n",
    "import numpy as np\n",
    "from sklearn.model_selection import train_test_split\n",
    "from sklearn import linear_model\n",
    "from sklearn.metrics import accuracy_score, f1_score, classification_report\n",
    "import warnings\n",
    "warnings.filterwarnings('ignore')\n",
    "from sklearn import linear_model\n",
    "import seaborn as sns\n",
    "\n",
    "from sklearn.tree import DecisionTreeClassifier\n",
    "from sklearn.tree import export_graphviz\n",
    "from sklearn import tree\n",
    "from sklearn.model_selection import train_test_split\n",
    "\n",
    "\n",
    "from sklearn.utils import shuffle\n",
    "from sklearn.preprocessing import LabelEncoder \n",
    "number = LabelEncoder()"
   ]
  },
  {
   "cell_type": "code",
   "execution_count": 2,
   "metadata": {},
   "outputs": [],
   "source": [
    "data = pd.read_csv('C:/Users/Stephen Thomas/Documents/MSBA 2020/Machine Learning/Final Project/Project Data/ProjectTrainingData.csv')"
   ]
  },
  {
   "cell_type": "code",
   "execution_count": 3,
   "metadata": {},
   "outputs": [
    {
     "data": {
      "text/plain": [
       "id                  float64\n",
       "click                 int64\n",
       "hour                  int64\n",
       "C1                    int64\n",
       "banner_pos            int64\n",
       "site_id              object\n",
       "site_domain          object\n",
       "site_category        object\n",
       "app_id               object\n",
       "app_domain           object\n",
       "app_category         object\n",
       "device_id            object\n",
       "device_ip            object\n",
       "device_model         object\n",
       "device_type           int64\n",
       "device_conn_type      int64\n",
       "C14                   int64\n",
       "C15                   int64\n",
       "C16                   int64\n",
       "C17                   int64\n",
       "C18                   int64\n",
       "C19                   int64\n",
       "C20                   int64\n",
       "C21                   int64\n",
       "dtype: object"
      ]
     },
     "execution_count": 3,
     "metadata": {},
     "output_type": "execute_result"
    }
   ],
   "source": [
    "data.dtypes"
   ]
  },
  {
   "cell_type": "code",
   "execution_count": 4,
   "metadata": {},
   "outputs": [],
   "source": [
    "from sklearn.preprocessing import LabelEncoder\n",
    "number = LabelEncoder()"
   ]
  },
  {
   "cell_type": "code",
   "execution_count": 5,
   "metadata": {},
   "outputs": [],
   "source": [
    "#Changing the variables into categories\n",
    "data['click'] = pd.Categorical(data.click)\n",
    "data['C1'] = pd.Categorical(data.C1)\n",
    "data['banner_pos'] = number.fit_transform(data['banner_pos'].astype('str'))\n",
    "data['site_id'] = number.fit_transform(data['site_id'].astype('str'))\n",
    "data['site_domain'] = number.fit_transform(data['site_domain'].astype('str'))\n",
    "data['site_category'] = number.fit_transform(data['site_category'].astype('str'))\n",
    "data['app_id'] = number.fit_transform(data['app_id'].astype('str'))\n",
    "data['app_domain'] = number.fit_transform(data['app_domain'].astype('str'))\n",
    "data['app_category'] = number.fit_transform(data['app_category'].astype('str'))\n",
    "data['device_id'] = number.fit_transform(data['device_id'].astype('str'))\n",
    "data['device_ip'] = number.fit_transform(data['device_ip'].astype('str'))\n",
    "data['device_model'] = number.fit_transform(data['device_model'].astype('str'))\n",
    "data['device_type'] = number.fit_transform(data['device_type'].astype('str'))\n",
    "data['device_conn_type'] = number.fit_transform(data['device_conn_type'].astype('str'))\n",
    "data['C14'] = pd.Categorical(data.C14)\n",
    "data['C15'] = pd.Categorical(data.C15)\n",
    "data['C16'] = pd.Categorical(data.C16)\n",
    "data['C17'] = pd.Categorical(data.C17)\n",
    "data['C18'] = pd.Categorical(data.C18)\n",
    "data['C19'] = pd.Categorical(data.C19)\n",
    "data['C20'] = pd.Categorical(data.C20)\n",
    "data['C21'] = pd.Categorical(data.C21)"
   ]
  },
  {
   "cell_type": "code",
   "execution_count": 6,
   "metadata": {},
   "outputs": [],
   "source": [
    "#Shuffling the data\n",
    "data = shuffle(data)"
   ]
  },
  {
   "cell_type": "markdown",
   "metadata": {},
   "source": [
    "# Decision Tree Model"
   ]
  },
  {
   "cell_type": "code",
   "execution_count": 7,
   "metadata": {},
   "outputs": [],
   "source": [
    "#Splitting data into features and y-variable. Using 1 million observations to bypass any memory or time constraints\n",
    "X = data.iloc[0:5000000, 2:24]\n",
    "y = data.iloc[0:5000000:, 1]\n",
    "#split dataset in features and target variable\n",
    "feature_cols = ['C1',\n",
    "\"banner_pos\",\n",
    "\"site_id\",\n",
    "\"site_domain\",\n",
    "\"site_category\",\n",
    "\"app_id\",\n",
    "\"app_domain\",\n",
    "\"app_category\",\n",
    "\"device_id\",\n",
    "\"device_ip\",\n",
    "\"device_model\",\n",
    "\"device_type\",\n",
    "\"device_conn_type\",\"C14\", \"C15\", \"C16\", \"C17\", \"C18\", \"C19\", \"C20\", \"C21\"]\n",
    "\n",
    "#Split the data into test and training \n",
    "X_train, X_test, y_train, y_test = train_test_split(X, y,test_size=.4, random_state=10)\n",
    "#Fitting the model- all attributes used, specified entropy and max_depth = None \n",
    "tree_clf = tree.DecisionTreeClassifier(criterion= 'entropy', max_depth=None, random_state=10)\n",
    "tree_clf = tree_clf.fit(X, y)\n",
    "\n",
    "#Build the decision tree (again, same as above)\n",
    "tree_clf = tree.DecisionTreeClassifier(criterion= 'entropy', max_depth=None, random_state=10)\n",
    "y_pred = tree_clf.fit(X_train, y_train).predict(X_test)"
   ]
  },
  {
   "cell_type": "code",
   "execution_count": 8,
   "metadata": {},
   "outputs": [
    {
     "name": "stdout",
     "output_type": "stream",
     "text": [
      "Accuracy: 0.7617655\n",
      "Log loss: 8.228423146413359\n",
      "F1-Score: 0.29817188763538505\n"
     ]
    }
   ],
   "source": [
    "#Predictive Accuracy \n",
    "import sklearn.metrics as metrics\n",
    "print(\"Accuracy:\",metrics.accuracy_score(y_test, y_pred))\n",
    "print(\"Log loss:\",metrics.log_loss(y_test, y_pred, eps=1e-15, normalize=True, sample_weight=None, labels=None))\n",
    "print(\"F1-Score:\",metrics.f1_score(y_test, y_pred))"
   ]
  },
  {
   "cell_type": "code",
   "execution_count": 8,
   "metadata": {},
   "outputs": [
    {
     "name": "stdout",
     "output_type": "stream",
     "text": [
      "[0 0 1 ... 0 0 0]\n"
     ]
    }
   ],
   "source": [
    "print(y_pred)"
   ]
  },
  {
   "cell_type": "markdown",
   "metadata": {},
   "source": [
    "# Logistic Regression "
   ]
  },
  {
   "cell_type": "code",
   "execution_count": 9,
   "metadata": {},
   "outputs": [
    {
     "name": "stdout",
     "output_type": "stream",
     "text": [
      "[[-8.64052538e-08 -3.20498255e-08  8.28877357e-09 -6.38600247e-06\n",
      "  -3.73156592e-05 -1.14267940e-07  6.62120762e-05 -2.13715382e-07\n",
      "  -3.46308367e-07  7.11319096e-08  4.04586854e-10 -1.22699530e-06\n",
      "  -1.23901650e-08 -3.38002579e-08 -2.97729293e-05 -5.98353076e-07\n",
      "   5.82754683e-06 -2.23140487e-06  1.37910501e-08 -1.16635041e-06\n",
      "  -3.10774139e-06 -3.03573904e-06]]\n"
     ]
    }
   ],
   "source": [
    "#Building a logistic regression model\n",
    "logistic = linear_model.LogisticRegression(multi_class='ovr', solver='saga')\n",
    "logistic.fit(X_train, y_train)\n",
    "print(logistic.coef_)"
   ]
  },
  {
   "cell_type": "code",
   "execution_count": 10,
   "metadata": {},
   "outputs": [],
   "source": [
    "#Making the prediction\n",
    "y_pred_LR = logistic.predict(X_test)\n",
    "y_pred_prob = logistic.predict_proba(X_test)"
   ]
  },
  {
   "cell_type": "code",
   "execution_count": 11,
   "metadata": {},
   "outputs": [
    {
     "name": "stdout",
     "output_type": "stream",
     "text": [
      "[[0.78530225 0.21469775]\n",
      " [0.85064056 0.14935944]\n",
      " [0.77524771 0.22475229]\n",
      " [0.79441935 0.20558065]\n",
      " [0.79775877 0.20224123]]\n"
     ]
    }
   ],
   "source": [
    "#Printing the class predictions\n",
    "print(y_pred_prob[0:5])"
   ]
  },
  {
   "cell_type": "code",
   "execution_count": 13,
   "metadata": {},
   "outputs": [
    {
     "data": {
      "text/plain": [
       "5.871764681016787"
      ]
     },
     "execution_count": 13,
     "metadata": {},
     "output_type": "execute_result"
    }
   ],
   "source": [
    "#Model evaluation using log loss\n",
    "from sklearn.metrics import log_loss\n",
    "\n",
    "log_loss(y_test, y_pred_LR)"
   ]
  },
  {
   "cell_type": "markdown",
   "metadata": {},
   "source": [
    "# Random Forest "
   ]
  },
  {
   "cell_type": "code",
   "execution_count": 14,
   "metadata": {},
   "outputs": [],
   "source": [
    "#Building baseline Random Forest model\n",
    "from sklearn.ensemble import RandomForestClassifier\n",
    "from sklearn.feature_selection import SelectFromModel\n",
    "\n",
    "RF = RandomForestClassifier(random_state = 10)"
   ]
  },
  {
   "cell_type": "code",
   "execution_count": 15,
   "metadata": {},
   "outputs": [
    {
     "data": {
      "text/plain": [
       "RandomForestClassifier(bootstrap=True, ccp_alpha=0.0, class_weight=None,\n",
       "                       criterion='gini', max_depth=None, max_features='auto',\n",
       "                       max_leaf_nodes=None, max_samples=None,\n",
       "                       min_impurity_decrease=0.0, min_impurity_split=None,\n",
       "                       min_samples_leaf=1, min_samples_split=2,\n",
       "                       min_weight_fraction_leaf=0.0, n_estimators=100,\n",
       "                       n_jobs=None, oob_score=False, random_state=10, verbose=0,\n",
       "                       warm_start=False)"
      ]
     },
     "execution_count": 15,
     "metadata": {},
     "output_type": "execute_result"
    }
   ],
   "source": [
    "#Fitting the random forest model\n",
    "RF.fit(X_train, y_train)"
   ]
  },
  {
   "cell_type": "code",
   "execution_count": 16,
   "metadata": {},
   "outputs": [],
   "source": [
    "#Making the prediction\n",
    "y_pred_RF = RF.predict(X_test)"
   ]
  },
  {
   "cell_type": "code",
   "execution_count": 17,
   "metadata": {},
   "outputs": [
    {
     "data": {
      "text/plain": [
       "6.341405555350432"
      ]
     },
     "execution_count": 17,
     "metadata": {},
     "output_type": "execute_result"
    }
   ],
   "source": [
    "#Evaluating the performance\n",
    "log_loss(y_test, y_pred_RF)"
   ]
  }
 ],
 "metadata": {
  "kernelspec": {
   "display_name": "Python 3",
   "language": "python",
   "name": "python3"
  },
  "language_info": {
   "codemirror_mode": {
    "name": "ipython",
    "version": 3
   },
   "file_extension": ".py",
   "mimetype": "text/x-python",
   "name": "python",
   "nbconvert_exporter": "python",
   "pygments_lexer": "ipython3",
   "version": "3.7.3"
  }
 },
 "nbformat": 4,
 "nbformat_minor": 4
}
